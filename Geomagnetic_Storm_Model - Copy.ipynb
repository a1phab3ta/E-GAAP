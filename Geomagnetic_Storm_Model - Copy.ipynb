{
  "cells": [
    {
      "cell_type": "code",
      "execution_count": null,
      "metadata": {
        "colab": {
          "base_uri": "https://localhost:8080/"
        },
        "id": "HwgBoqMNjjCg",
        "outputId": "f2c8c343-9fec-4cb3-fb7f-e81b38442ddf"
      },
      "outputs": [
        {
          "ename": "ParserError",
          "evalue": "Error tokenizing data. C error: Calling read(nbytes) on source failed. Try engine='python'.",
          "output_type": "error",
          "traceback": [
            "\u001b[1;31m---------------------------------------------------------------------------\u001b[0m",
            "\u001b[1;31mParserError\u001b[0m                               Traceback (most recent call last)",
            "Cell \u001b[1;32mIn[1], line 8\u001b[0m\n\u001b[0;32m      5\u001b[0m labels_path \u001b[38;5;241m=\u001b[39m \u001b[38;5;124m\"\u001b[39m\u001b[38;5;124mlabels.csv\u001b[39m\u001b[38;5;124m\"\u001b[39m\n\u001b[0;32m      7\u001b[0m \u001b[38;5;66;03m# Load the datasets\u001b[39;00m\n\u001b[1;32m----> 8\u001b[0m solar_wind_df \u001b[38;5;241m=\u001b[39m \u001b[43mpd\u001b[49m\u001b[38;5;241;43m.\u001b[39;49m\u001b[43mread_csv\u001b[49m\u001b[43m(\u001b[49m\u001b[43msolar_wind_path\u001b[49m\u001b[43m)\u001b[49m\n\u001b[0;32m      9\u001b[0m labels_df \u001b[38;5;241m=\u001b[39m pd\u001b[38;5;241m.\u001b[39mread_csv(labels_path)\n\u001b[0;32m     11\u001b[0m \u001b[38;5;66;03m# Display basic information about the datasets\u001b[39;00m\n",
            "File \u001b[1;32m~\\AppData\\Local\\Packages\\PythonSoftwareFoundation.Python.3.10_qbz5n2kfra8p0\\LocalCache\\local-packages\\Python310\\site-packages\\pandas\\io\\parsers\\readers.py:948\u001b[0m, in \u001b[0;36mread_csv\u001b[1;34m(filepath_or_buffer, sep, delimiter, header, names, index_col, usecols, dtype, engine, converters, true_values, false_values, skipinitialspace, skiprows, skipfooter, nrows, na_values, keep_default_na, na_filter, verbose, skip_blank_lines, parse_dates, infer_datetime_format, keep_date_col, date_parser, date_format, dayfirst, cache_dates, iterator, chunksize, compression, thousands, decimal, lineterminator, quotechar, quoting, doublequote, escapechar, comment, encoding, encoding_errors, dialect, on_bad_lines, delim_whitespace, low_memory, memory_map, float_precision, storage_options, dtype_backend)\u001b[0m\n\u001b[0;32m    935\u001b[0m kwds_defaults \u001b[38;5;241m=\u001b[39m _refine_defaults_read(\n\u001b[0;32m    936\u001b[0m     dialect,\n\u001b[0;32m    937\u001b[0m     delimiter,\n\u001b[1;32m   (...)\u001b[0m\n\u001b[0;32m    944\u001b[0m     dtype_backend\u001b[38;5;241m=\u001b[39mdtype_backend,\n\u001b[0;32m    945\u001b[0m )\n\u001b[0;32m    946\u001b[0m kwds\u001b[38;5;241m.\u001b[39mupdate(kwds_defaults)\n\u001b[1;32m--> 948\u001b[0m \u001b[38;5;28;01mreturn\u001b[39;00m \u001b[43m_read\u001b[49m\u001b[43m(\u001b[49m\u001b[43mfilepath_or_buffer\u001b[49m\u001b[43m,\u001b[49m\u001b[43m \u001b[49m\u001b[43mkwds\u001b[49m\u001b[43m)\u001b[49m\n",
            "File \u001b[1;32m~\\AppData\\Local\\Packages\\PythonSoftwareFoundation.Python.3.10_qbz5n2kfra8p0\\LocalCache\\local-packages\\Python310\\site-packages\\pandas\\io\\parsers\\readers.py:617\u001b[0m, in \u001b[0;36m_read\u001b[1;34m(filepath_or_buffer, kwds)\u001b[0m\n\u001b[0;32m    614\u001b[0m     \u001b[38;5;28;01mreturn\u001b[39;00m parser\n\u001b[0;32m    616\u001b[0m \u001b[38;5;28;01mwith\u001b[39;00m parser:\n\u001b[1;32m--> 617\u001b[0m     \u001b[38;5;28;01mreturn\u001b[39;00m \u001b[43mparser\u001b[49m\u001b[38;5;241;43m.\u001b[39;49m\u001b[43mread\u001b[49m\u001b[43m(\u001b[49m\u001b[43mnrows\u001b[49m\u001b[43m)\u001b[49m\n",
            "File \u001b[1;32m~\\AppData\\Local\\Packages\\PythonSoftwareFoundation.Python.3.10_qbz5n2kfra8p0\\LocalCache\\local-packages\\Python310\\site-packages\\pandas\\io\\parsers\\readers.py:1748\u001b[0m, in \u001b[0;36mTextFileReader.read\u001b[1;34m(self, nrows)\u001b[0m\n\u001b[0;32m   1741\u001b[0m nrows \u001b[38;5;241m=\u001b[39m validate_integer(\u001b[38;5;124m\"\u001b[39m\u001b[38;5;124mnrows\u001b[39m\u001b[38;5;124m\"\u001b[39m, nrows)\n\u001b[0;32m   1742\u001b[0m \u001b[38;5;28;01mtry\u001b[39;00m:\n\u001b[0;32m   1743\u001b[0m     \u001b[38;5;66;03m# error: \"ParserBase\" has no attribute \"read\"\u001b[39;00m\n\u001b[0;32m   1744\u001b[0m     (\n\u001b[0;32m   1745\u001b[0m         index,\n\u001b[0;32m   1746\u001b[0m         columns,\n\u001b[0;32m   1747\u001b[0m         col_dict,\n\u001b[1;32m-> 1748\u001b[0m     ) \u001b[38;5;241m=\u001b[39m \u001b[38;5;28;43mself\u001b[39;49m\u001b[38;5;241;43m.\u001b[39;49m\u001b[43m_engine\u001b[49m\u001b[38;5;241;43m.\u001b[39;49m\u001b[43mread\u001b[49m\u001b[43m(\u001b[49m\u001b[43m  \u001b[49m\u001b[38;5;66;43;03m# type: ignore[attr-defined]\u001b[39;49;00m\n\u001b[0;32m   1749\u001b[0m \u001b[43m        \u001b[49m\u001b[43mnrows\u001b[49m\n\u001b[0;32m   1750\u001b[0m \u001b[43m    \u001b[49m\u001b[43m)\u001b[49m\n\u001b[0;32m   1751\u001b[0m \u001b[38;5;28;01mexcept\u001b[39;00m \u001b[38;5;167;01mException\u001b[39;00m:\n\u001b[0;32m   1752\u001b[0m     \u001b[38;5;28mself\u001b[39m\u001b[38;5;241m.\u001b[39mclose()\n",
            "File \u001b[1;32m~\\AppData\\Local\\Packages\\PythonSoftwareFoundation.Python.3.10_qbz5n2kfra8p0\\LocalCache\\local-packages\\Python310\\site-packages\\pandas\\io\\parsers\\c_parser_wrapper.py:234\u001b[0m, in \u001b[0;36mCParserWrapper.read\u001b[1;34m(self, nrows)\u001b[0m\n\u001b[0;32m    232\u001b[0m \u001b[38;5;28;01mtry\u001b[39;00m:\n\u001b[0;32m    233\u001b[0m     \u001b[38;5;28;01mif\u001b[39;00m \u001b[38;5;28mself\u001b[39m\u001b[38;5;241m.\u001b[39mlow_memory:\n\u001b[1;32m--> 234\u001b[0m         chunks \u001b[38;5;241m=\u001b[39m \u001b[38;5;28;43mself\u001b[39;49m\u001b[38;5;241;43m.\u001b[39;49m\u001b[43m_reader\u001b[49m\u001b[38;5;241;43m.\u001b[39;49m\u001b[43mread_low_memory\u001b[49m\u001b[43m(\u001b[49m\u001b[43mnrows\u001b[49m\u001b[43m)\u001b[49m\n\u001b[0;32m    235\u001b[0m         \u001b[38;5;66;03m# destructive to chunks\u001b[39;00m\n\u001b[0;32m    236\u001b[0m         data \u001b[38;5;241m=\u001b[39m _concatenate_chunks(chunks)\n",
            "File \u001b[1;32mparsers.pyx:843\u001b[0m, in \u001b[0;36mpandas._libs.parsers.TextReader.read_low_memory\u001b[1;34m()\u001b[0m\n",
            "File \u001b[1;32mparsers.pyx:904\u001b[0m, in \u001b[0;36mpandas._libs.parsers.TextReader._read_rows\u001b[1;34m()\u001b[0m\n",
            "File \u001b[1;32mparsers.pyx:879\u001b[0m, in \u001b[0;36mpandas._libs.parsers.TextReader._tokenize_rows\u001b[1;34m()\u001b[0m\n",
            "File \u001b[1;32mparsers.pyx:890\u001b[0m, in \u001b[0;36mpandas._libs.parsers.TextReader._check_tokenize_status\u001b[1;34m()\u001b[0m\n",
            "File \u001b[1;32mparsers.pyx:2058\u001b[0m, in \u001b[0;36mpandas._libs.parsers.raise_parser_error\u001b[1;34m()\u001b[0m\n",
            "\u001b[1;31mParserError\u001b[0m: Error tokenizing data. C error: Calling read(nbytes) on source failed. Try engine='python'."
          ]
        }
      ],
      "source": [
        "import pandas as pd\n",
        "\n",
        "solar_wind_path = \"solar_wind.csv\"\n",
        "labels_path = \"labels.csv\"\n",
        "\n",
        "solar_wind_df = pd.read_csv(solar_wind_path)\n",
        "labels_df = pd.read_csv(labels_path)\n",
        "\n",
        "print(solar_wind_df.info())\n",
        "\n",
        "print(labels_df.info())"
      ]
    },
    {
      "cell_type": "code",
      "execution_count": 2,
      "metadata": {},
      "outputs": [
        {
          "data": {
            "text/plain": [
              "139872"
            ]
          },
          "execution_count": 2,
          "metadata": {},
          "output_type": "execute_result"
        }
      ],
      "source": [
        "len(labels_df)\n"
      ]
    },
    {
      "cell_type": "code",
      "execution_count": 3,
      "metadata": {
        "colab": {
          "base_uri": "https://localhost:8080/"
        },
        "id": "gK0tcLE8kaxK",
        "outputId": "10462251-9031-40a3-95ee-5115fde67d04"
      },
      "outputs": [
        {
          "name": "stdout",
          "output_type": "stream",
          "text": [
            "Number of samples in solar_wind.csv: 8392320\n",
            "Number of samples in labels.csv: 139872\n"
          ]
        },
        {
          "data": {
            "text/plain": [
              "139872"
            ]
          },
          "execution_count": 3,
          "metadata": {},
          "output_type": "execute_result"
        }
      ],
      "source": [
        "print(f\"Number of samples in solar_wind.csv: {solar_wind_df.shape[0]}\")\n",
        "print(f\"Number of samples in labels.csv: {labels_df.shape[0]}\")\n",
        "len(labels_df)\n"
      ]
    },
    {
      "cell_type": "code",
      "execution_count": 4,
      "metadata": {
        "colab": {
          "base_uri": "https://localhost:8080/"
        },
        "id": "2DIihjfEnQuv",
        "outputId": "b3f19748-8e8b-4bfb-c3f3-b94963566479"
      },
      "outputs": [
        {
          "name": "stdout",
          "output_type": "stream",
          "text": [
            "     period       timedelta  bx_gse  by_gse  bz_gse  theta_gse  phi_gse  \\\n",
            "0   train_a 0 days 00:00:00   -5.55    3.00    1.25      11.09   153.37   \n",
            "1   train_a 0 days 00:00:00   -5.58    3.16    1.17      10.10   151.91   \n",
            "2   train_a 0 days 00:00:00   -5.15    3.66    0.85       7.87   146.04   \n",
            "3   train_a 0 days 00:00:00   -5.20    3.68    0.68       6.17   146.17   \n",
            "4   train_a 0 days 00:00:00   -5.12    3.68    0.49       4.62   145.72   \n",
            "..      ...             ...     ...     ...     ...        ...      ...   \n",
            "59  train_a 0 days 00:00:00   -6.52    0.67    1.31      10.90   174.78   \n",
            "60  train_a 0 days 01:00:00   -6.56    0.27    1.35      11.21   178.22   \n",
            "61  train_a 0 days 01:00:00   -6.53    0.53    1.42      11.78   175.95   \n",
            "62  train_a 0 days 01:00:00   -6.47    0.56    1.36      11.41   175.62   \n",
            "63  train_a 0 days 01:00:00   -6.52    0.39    1.31      10.93   177.14   \n",
            "\n",
            "    bx_gsm  by_gsm  bz_gsm  theta_gsm  phi_gsm    bt  density   speed  \\\n",
            "0    -5.55    3.00    1.25      11.09   153.37  6.80     1.53  383.92   \n",
            "1    -5.58    3.16    1.17      10.10   151.91  6.83     1.69  381.79   \n",
            "2    -5.15    3.66    0.85       7.87   146.04  6.77     1.97  389.11   \n",
            "3    -5.20    3.68    0.68       6.17   146.17  6.74     1.97  389.11   \n",
            "4    -5.12    3.68    0.49       4.62   145.72  6.65     1.77  384.26   \n",
            "..     ...     ...     ...        ...      ...   ...      ...     ...   \n",
            "59   -6.52    0.67    1.31      10.90   174.78  7.00     0.98  345.40   \n",
            "60   -6.56    0.27    1.35      11.21   178.22  7.01     0.36  317.16   \n",
            "61   -6.53    0.53    1.42      11.78   175.95  7.00     0.13  312.68   \n",
            "62   -6.47    0.56    1.36      11.41   175.62  6.92      NaN     NaN   \n",
            "63   -6.52    0.39    1.31      10.93   177.14  6.95      NaN     NaN   \n",
            "\n",
            "    temperature source  \n",
            "0      110237.0     ac  \n",
            "1      123825.0     ac  \n",
            "2       82548.0     ac  \n",
            "3       82548.0     ac  \n",
            "4       94269.0     ac  \n",
            "..          ...    ...  \n",
            "59      75374.0     ac  \n",
            "60          NaN     ac  \n",
            "61          NaN     ac  \n",
            "62          NaN     ac  \n",
            "63          NaN     ac  \n",
            "\n",
            "[64 rows x 17 columns]\n"
          ]
        },
        {
          "data": {
            "text/plain": [
              "139872"
            ]
          },
          "execution_count": 4,
          "metadata": {},
          "output_type": "execute_result"
        }
      ],
      "source": [
        "solar_wind_df[\"timedelta\"] = pd.to_timedelta(solar_wind_df[\"timedelta\"])\n",
        "\n",
        "solar_wind_df[\"timedelta\"] = solar_wind_df[\"timedelta\"].dt.floor(\"H\")\n",
        "\n",
        "print(solar_wind_df.head(64))\n",
        "len(labels_df)\n"
      ]
    },
    {
      "cell_type": "code",
      "execution_count": 6,
      "metadata": {
        "colab": {
          "base_uri": "https://localhost:8080/"
        },
        "id": "0ELiSpBNqLaB",
        "outputId": "fd2eb4de-e090-43c6-a35e-c487be31220f"
      },
      "outputs": [
        {
          "ename": "SyntaxError",
          "evalue": "invalid syntax (1530575607.py, line 1)",
          "output_type": "error",
          "traceback": [
            "\u001b[1;36m  Cell \u001b[1;32mIn[6], line 1\u001b[1;36m\u001b[0m\n\u001b[1;33m    Ensure 'timedelta' is in timedelta format\u001b[0m\n\u001b[1;37m           ^\u001b[0m\n\u001b[1;31mSyntaxError\u001b[0m\u001b[1;31m:\u001b[0m invalid syntax\n"
          ]
        }
      ],
      "source": [
        "solar_wind_df[\"timedelta\"] = pd.to_timedelta(solar_wind_df[\"timedelta\"])\n",
        "\n",
        "numeric_cols = solar_wind_df.select_dtypes(include=['number']).columns\n",
        "\n",
        "solar_wind_df[numeric_cols] = solar_wind_df[numeric_cols].apply(pd.to_numeric, errors='coerce')\n",
        "\n",
        "solar_wind_df[numeric_cols] = solar_wind_df.groupby(\"timedelta\")[numeric_cols].transform(lambda x: x.fillna(x.median()))\n",
        "\n",
        "hourly_avg_df = solar_wind_df.groupby(\"timedelta\")[numeric_cols].mean()\n",
        "\n",
        "if 'timedelta' not in hourly_avg_df.columns:\n",
        "    hourly_avg_df = hourly_avg_df.reset_index()\n",
        "\n",
        "print(hourly_avg_df.head())\n",
        "\n"
      ]
    },
    {
      "cell_type": "code",
      "execution_count": 8,
      "metadata": {
        "colab": {
          "base_uri": "https://localhost:8080/"
        },
        "id": "AAHDIHc0wqdD",
        "outputId": "646e863d-c8b7-467e-f144-3f54fcd99cff"
      },
      "outputs": [
        {
          "name": "stdout",
          "output_type": "stream",
          "text": [
            "                     timedelta    bx_gse    by_gse    bz_gse  theta_gse  \\\n",
            "timedelta                                                                 \n",
            "0              0 days 00:00:00 -2.926056 -2.133444 -2.176722  -3.211278   \n",
            "3600000000000  0 days 01:00:00 -3.102278 -3.917667 -5.511389 -19.240389   \n",
            "7200000000000  0 days 02:00:00 -4.461056 -2.912778 -3.165389 -10.525000   \n",
            "10800000000000 0 days 03:00:00 -4.831389 -1.055056 -3.897667  -7.848444   \n",
            "14400000000000 0 days 04:00:00 -3.784667 -0.737500 -3.542056  -4.479444   \n",
            "\n",
            "                   phi_gse    bx_gsm    by_gsm    bz_gsm  theta_gsm  \\\n",
            "timedelta                                                             \n",
            "0               206.873000 -2.933389 -1.390444 -2.996278  -7.983833   \n",
            "3600000000000   223.546167 -3.108444 -2.007556 -6.977278 -27.959389   \n",
            "7200000000000   207.519389 -4.465500 -1.887333 -4.316833 -17.845667   \n",
            "10800000000000  195.787444 -4.827667 -0.251167 -4.407500 -11.876222   \n",
            "14400000000000  203.448389 -3.781333 -0.173833 -4.037889  -9.076444   \n",
            "\n",
            "                   phi_gsm         bt   density       speed   temperature  \n",
            "timedelta                                                                  \n",
            "0               188.540889  12.031944  6.554500  406.231778  59844.472222  \n",
            "3600000000000   191.218833  12.378111  5.495611  394.350944  61699.155556  \n",
            "7200000000000   194.595333  11.099056  7.644278  398.399389  86511.150000  \n",
            "10800000000000  191.322722  12.065778  5.324167  399.055167  85357.388889  \n",
            "14400000000000  197.677111  11.785889  6.176667  419.151722  86160.788889  \n"
          ]
        }
      ],
      "source": [
        "if 'timedelta' not in hourly_avg_df.columns:\n",
        "    hourly_avg_df = hourly_avg_df.reset_index()\n",
        "\n",
        "hourly_avg_df[\"timedelta\"] = pd.to_timedelta(hourly_avg_df[\"timedelta\"])\n",
        "\n",
        "print(hourly_avg_df.head())\n",
        "len(labels_df)\n"
      ]
    },
    {
      "cell_type": "code",
      "execution_count": 9,
      "metadata": {
        "id": "CSJy7KkFyXb7"
      },
      "outputs": [],
      "source": [
        "solar_wind_df[\"timedelta\"] = pd.to_timedelta(solar_wind_df[\"timedelta\"], unit=\"ns\")\n",
        "len(labels_df)\n"
      ]
    },
    {
      "cell_type": "code",
      "execution_count": 10,
      "metadata": {
        "colab": {
          "base_uri": "https://localhost:8080/"
        },
        "id": "IYUEVPh7yaIp",
        "outputId": "b9ac3409-ecd0-4c4c-f276-120ecbc4fedf"
      },
      "outputs": [
        {
          "name": "stdout",
          "output_type": "stream",
          "text": [
            "solar_wind_df timedelta type: timedelta64[ns]\n"
          ]
        }
      ],
      "source": [
        "print(\"solar_wind_df timedelta type:\", solar_wind_df[\"timedelta\"].dtype)\n",
        "len(labels_df)\n"
      ]
    },
    {
      "cell_type": "code",
      "execution_count": 11,
      "metadata": {
        "colab": {
          "base_uri": "https://localhost:8080/"
        },
        "id": "SqQuEZvi7lMf",
        "outputId": "7bd31035-261b-41c7-9ae8-0b257b46472f"
      },
      "outputs": [
        {
          "name": "stdout",
          "output_type": "stream",
          "text": [
            "Unique hourly timestamps in labels_df: 58464\n",
            "Total rows in labels_df: 139872\n"
          ]
        }
      ],
      "source": [
        "print(\"Unique hourly timestamps in labels_df:\", labels_df[\"timedelta\"].nunique())\n",
        "print(\"Total rows in labels_df:\", len(labels_df))\n",
        "len(labels_df)\n"
      ]
    },
    {
      "cell_type": "markdown",
      "metadata": {
        "id": "MFIea1djxPLU"
      },
      "source": [
        "VERIFY CLEANED DATASET"
      ]
    },
    {
      "cell_type": "code",
      "execution_count": 12,
      "metadata": {
        "colab": {
          "base_uri": "https://localhost:8080/"
        },
        "id": "wtOTOS6ixQMI",
        "outputId": "71adf279-7e81-4862-80b1-657b6a9071c2"
      },
      "outputs": [
        {
          "name": "stdout",
          "output_type": "stream",
          "text": [
            "58464\n",
            "58464\n"
          ]
        }
      ],
      "source": [
        "print(hourly_avg_df[\"timedelta\"].nunique())  \n",
        "print(len(hourly_avg_df))  \n"
      ]
    },
    {
      "cell_type": "code",
      "execution_count": 13,
      "metadata": {
        "colab": {
          "base_uri": "https://localhost:8080/"
        },
        "id": "-rQW4FxmxUzT",
        "outputId": "bf9d9f3c-dbfa-4117-c70b-298aa85b1dce"
      },
      "outputs": [
        {
          "name": "stdout",
          "output_type": "stream",
          "text": [
            "Raw data for 0 days 00:00:00\n",
            "          period timedelta  bx_gse  by_gse  bz_gse  theta_gse  phi_gse  \\\n",
            "0        train_a    0 days   -5.55    3.00    1.25      11.09   153.37   \n",
            "1        train_a    0 days   -5.58    3.16    1.17      10.10   151.91   \n",
            "2        train_a    0 days   -5.15    3.66    0.85       7.87   146.04   \n",
            "3        train_a    0 days   -5.20    3.68    0.68       6.17   146.17   \n",
            "4        train_a    0 days   -5.12    3.68    0.49       4.62   145.72   \n",
            "...          ...       ...     ...     ...     ...        ...      ...   \n",
            "4884535  train_c    0 days   -0.22   -9.63    0.45       2.66   268.71   \n",
            "4884536  train_c    0 days   -0.58   -9.55    0.85       5.09   266.55   \n",
            "4884537  train_c    0 days   -0.69   -9.55    0.99       5.89   265.85   \n",
            "4884538  train_c    0 days   -0.96   -9.53    1.06       6.32   264.21   \n",
            "4884539  train_c    0 days   -0.61   -9.56    0.86       5.16   266.32   \n",
            "\n",
            "         bx_gsm  by_gsm  bz_gsm  theta_gsm  phi_gsm    bt  density   speed  \\\n",
            "0         -5.55    3.00    1.25      11.09   153.37  6.80     1.53  383.92   \n",
            "1         -5.58    3.16    1.17      10.10   151.91  6.83     1.69  381.79   \n",
            "2         -5.15    3.66    0.85       7.87   146.04  6.77     1.97  389.11   \n",
            "3         -5.20    3.68    0.68       6.17   146.17  6.74     1.97  389.11   \n",
            "4         -5.12    3.68    0.49       4.62   145.72  6.65     1.77  384.26   \n",
            "...         ...     ...     ...        ...      ...   ...      ...     ...   \n",
            "4884535   -0.23   -8.79   -3.97     -24.30   268.52  9.64     3.69  448.97   \n",
            "4884536   -0.59   -8.90   -3.57     -21.80   266.24  9.61     3.69  448.97   \n",
            "4884537   -0.70   -8.96   -3.44     -20.95   265.52  9.63     5.27  408.69   \n",
            "4884538   -0.97   -8.98   -3.36     -20.43   263.80  9.63     3.50  454.18   \n",
            "4884539   -0.62   -8.91   -3.55     -21.64   265.99  9.62     4.12  450.20   \n",
            "\n",
            "         temperature source  \n",
            "0           110237.0     ac  \n",
            "1           123825.0     ac  \n",
            "2            82548.0     ac  \n",
            "3            82548.0     ac  \n",
            "4            94269.0     ac  \n",
            "...              ...    ...  \n",
            "4884535      33544.0     ac  \n",
            "4884536      33544.0     ac  \n",
            "4884537      52058.0     ac  \n",
            "4884538      28355.0     ac  \n",
            "4884539      28095.0     ac  \n",
            "\n",
            "[180 rows x 17 columns]\n"
          ]
        }
      ],
      "source": [
        "specific_hour = \"0 days 00:00:00\"\n",
        "raw_hour_data = solar_wind_df[solar_wind_df[\"timedelta\"] == pd.to_timedelta(specific_hour)]\n",
        "\n",
        "print(\"Raw data for\", specific_hour)\n",
        "print(raw_hour_data)\n",
        "\n"
      ]
    },
    {
      "cell_type": "markdown",
      "metadata": {
        "id": "-BVdPjlj0mcy"
      },
      "source": [
        "DATA CONCATENATION"
      ]
    },
    {
      "cell_type": "code",
      "execution_count": 14,
      "metadata": {
        "colab": {
          "base_uri": "https://localhost:8080/"
        },
        "id": "07hdx4i60e76",
        "outputId": "ee4ee0b0-7003-491a-fa53-1ad11e1671b5"
      },
      "outputs": [
        {
          "name": "stdout",
          "output_type": "stream",
          "text": [
            "Index(['period', 'timedelta', 'dst'], dtype='object')\n"
          ]
        }
      ],
      "source": [
        "print(labels_df.columns)\n"
      ]
    },
    {
      "cell_type": "code",
      "execution_count": 15,
      "metadata": {
        "colab": {
          "base_uri": "https://localhost:8080/"
        },
        "id": "IgWpxcUN0hTZ",
        "outputId": "045d3451-b800-4675-db7f-a261b33a2db8"
      },
      "outputs": [
        {
          "name": "stdout",
          "output_type": "stream",
          "text": [
            "Percentage of matching timedelta values: 100.00%\n",
            "All timedelta values match!\n"
          ]
        }
      ],
      "source": [
        "labels_df[\"timedelta\"] = pd.to_timedelta(labels_df[\"timedelta\"])\n",
        "\n",
        "matching_timedeltas = labels_df[\"timedelta\"].isin(hourly_avg_df[\"timedelta\"])\n",
        "\n",
        "match_percentage = matching_timedeltas.mean() * 100\n",
        "print(f\"Percentage of matching timedelta values: {match_percentage:.2f}%\")\n",
        "\n",
        "non_matching_timedeltas = labels_df.loc[~matching_timedeltas, \"timedelta\"]\n",
        "if not non_matching_timedeltas.empty:\n",
        "    print(\"Example of non-matching timedelta values:\")\n",
        "    print(non_matching_timedeltas.head(10))\n",
        "else:\n",
        "    print(\"All timedelta values match!\")\n"
      ]
    },
    {
      "cell_type": "code",
      "execution_count": 16,
      "metadata": {
        "colab": {
          "base_uri": "https://localhost:8080/"
        },
        "id": "GBY-OvKo3RQt",
        "outputId": "8bd0224b-9604-413c-dc50-e693075f2a3a"
      },
      "outputs": [
        {
          "name": "stdout",
          "output_type": "stream",
          "text": [
            "hourly_avg_df already contains 'timedelta' as a column.\n",
            "labels_df already contains 'timedelta' as a column.\n"
          ]
        }
      ],
      "source": [
        "if \"timedelta\" in hourly_avg_df.columns:\n",
        "    print(\"hourly_avg_df already contains 'timedelta' as a column.\")\n",
        "else:\n",
        "    hourly_avg_df = hourly_avg_df.reset_index()\n",
        "\n",
        "if \"timedelta\" in labels_df.columns:\n",
        "    print(\"labels_df already contains 'timedelta' as a column.\")\n",
        "else:\n",
        "    labels_df = labels_df.reset_index()\n"
      ]
    },
    {
      "cell_type": "code",
      "execution_count": 17,
      "metadata": {
        "colab": {
          "base_uri": "https://localhost:8080/"
        },
        "id": "Wkiqx_n_3iPK",
        "outputId": "7c661a70-6c82-4de0-e0f3-ac67026350c2"
      },
      "outputs": [],
      "source": [
        "labels_df[\"timedelta\"] = labels_df[\"timedelta\"].dt.floor(\"H\")\n"
      ]
    },
    {
      "cell_type": "code",
      "execution_count": 18,
      "metadata": {
        "colab": {
          "base_uri": "https://localhost:8080/"
        },
        "id": "1YMG-hvl6lYB",
        "outputId": "5a1abad5-e850-4152-e840-2e83a9902cc8"
      },
      "outputs": [
        {
          "name": "stdout",
          "output_type": "stream",
          "text": [
            "First few unique timedeltas in hourly_avg_df:\n",
            "<TimedeltaArray>\n",
            "['0 days 00:00:00', '0 days 01:00:00', '0 days 02:00:00', '0 days 03:00:00',\n",
            " '0 days 04:00:00', '0 days 05:00:00', '0 days 06:00:00', '0 days 07:00:00',\n",
            " '0 days 08:00:00', '0 days 09:00:00']\n",
            "Length: 10, dtype: timedelta64[ns]\n",
            "\n",
            "First few unique timedeltas in labels_df:\n",
            "<TimedeltaArray>\n",
            "['0 days 00:00:00', '0 days 01:00:00', '0 days 02:00:00', '0 days 03:00:00',\n",
            " '0 days 04:00:00', '0 days 05:00:00', '0 days 06:00:00', '0 days 07:00:00',\n",
            " '0 days 08:00:00', '0 days 09:00:00']\n",
            "Length: 10, dtype: timedelta64[ns]\n"
          ]
        }
      ],
      "source": [
        "print(\"First few unique timedeltas in hourly_avg_df:\")\n",
        "print(hourly_avg_df[\"timedelta\"].unique()[:10])\n",
        "\n",
        "print(\"\\nFirst few unique timedeltas in labels_df:\")\n",
        "print(labels_df[\"timedelta\"].unique()[:10])\n"
      ]
    },
    {
      "cell_type": "code",
      "execution_count": 19,
      "metadata": {
        "colab": {
          "base_uri": "https://localhost:8080/"
        },
        "id": "09Jo67Xj5CDm",
        "outputId": "58e092c1-8384-472e-e0b7-47474e725dbe"
      },
      "outputs": [
        {
          "name": "stdout",
          "output_type": "stream",
          "text": [
            "After aggregation, labels_df length: 58464\n"
          ]
        }
      ],
      "source": [
        "labels_agg = labels_df.groupby(\"timedelta\", as_index=False)[\"dst\"].mean()\n",
        "print(\"After aggregation, labels_df length:\", len(labels_agg))\n",
        "labels_df.size\n"
      ]
    },
    {
      "cell_type": "code",
      "execution_count": 20,
      "metadata": {
        "colab": {
          "base_uri": "https://localhost:8080/"
        },
        "id": "6Uty4CNs_Svx",
        "outputId": "22f9d9f4-c5cc-4cab-d6d5-384a566f1a6a"
      },
      "outputs": [
        {
          "name": "stdout",
          "output_type": "stream",
          "text": [
            "    period       timedelta  dst\n",
            "0  train_a 0 days 00:00:00   -7\n",
            "1  train_a 0 days 01:00:00  -10\n",
            "2  train_a 0 days 02:00:00  -10\n",
            "3  train_a 0 days 03:00:00   -6\n",
            "4  train_a 0 days 04:00:00   -2\n",
            "Index(['period', 'timedelta', 'dst'], dtype='object')\n"
          ]
        }
      ],
      "source": [
        "print(labels_df.head())\n",
        "print(labels_df.columns)\n"
      ]
    },
    {
      "cell_type": "code",
      "execution_count": 21,
      "metadata": {
        "id": "JNqgzzO6P94I"
      },
      "outputs": [],
      "source": [
        "hourly_avg_df.to_csv(\"hourly_avg.csv\", index=False)\n",
        "labels_df.to_csv(\"labels.csv\", index=False)\n"
      ]
    },
    {
      "cell_type": "code",
      "execution_count": 22,
      "metadata": {
        "colab": {
          "base_uri": "https://localhost:8080/"
        },
        "id": "On9-BE70RHTU",
        "outputId": "3a7ee5ee-9423-430b-eb2e-9f251a95cdbf"
      },
      "outputs": [
        {
          "name": "stdout",
          "output_type": "stream",
          "text": [
            "58464\n"
          ]
        }
      ],
      "source": [
        "print(len(hourly_avg_df))\n"
      ]
    },
    {
      "cell_type": "code",
      "execution_count": 11,
      "metadata": {},
      "outputs": [],
      "source": [
        "import pandas as pd\n",
        "\n",
        "df1 = pd.read_csv(\"labels.csv\")  \n",
        "df2 = pd.read_csv(\"hourly_avg.csv\")\n",
        "\n",
        "time_col = \"timedelta\" \n",
        "\n",
        "df1_unique = df1.drop_duplicates(subset=[time_col], keep=\"first\")\n",
        "\n",
        "df2 = df2.merge(df1_unique[[time_col, \"dst\"]], on=time_col, how=\"left\")\n",
        "\n",
        "df2.to_csv(\"hourly_avg_dst.csv\", index=False)\n"
      ]
    },
    {
      "cell_type": "code",
      "execution_count": 4,
      "metadata": {},
      "outputs": [
        {
          "data": {
            "text/html": [
              "<div>\n",
              "<style scoped>\n",
              "    .dataframe tbody tr th:only-of-type {\n",
              "        vertical-align: middle;\n",
              "    }\n",
              "\n",
              "    .dataframe tbody tr th {\n",
              "        vertical-align: top;\n",
              "    }\n",
              "\n",
              "    .dataframe thead th {\n",
              "        text-align: right;\n",
              "    }\n",
              "</style>\n",
              "<table border=\"1\" class=\"dataframe\">\n",
              "  <thead>\n",
              "    <tr style=\"text-align: right;\">\n",
              "      <th></th>\n",
              "      <th>timedelta</th>\n",
              "      <th>bx_gse</th>\n",
              "      <th>by_gse</th>\n",
              "      <th>bz_gse</th>\n",
              "      <th>theta_gse</th>\n",
              "      <th>phi_gse</th>\n",
              "      <th>bx_gsm</th>\n",
              "      <th>by_gsm</th>\n",
              "      <th>bz_gsm</th>\n",
              "      <th>theta_gsm</th>\n",
              "      <th>phi_gsm</th>\n",
              "      <th>bt</th>\n",
              "      <th>density</th>\n",
              "      <th>speed</th>\n",
              "      <th>temperature</th>\n",
              "      <th>dst</th>\n",
              "    </tr>\n",
              "  </thead>\n",
              "  <tbody>\n",
              "    <tr>\n",
              "      <th>0</th>\n",
              "      <td>0 days 00:00:00</td>\n",
              "      <td>-2.926056</td>\n",
              "      <td>-2.133444</td>\n",
              "      <td>-2.176722</td>\n",
              "      <td>-3.211278</td>\n",
              "      <td>206.873000</td>\n",
              "      <td>-2.933389</td>\n",
              "      <td>-1.390444</td>\n",
              "      <td>-2.996278</td>\n",
              "      <td>-7.983833</td>\n",
              "      <td>188.540889</td>\n",
              "      <td>12.031944</td>\n",
              "      <td>6.554500</td>\n",
              "      <td>406.231778</td>\n",
              "      <td>59844.472222</td>\n",
              "      <td>-7</td>\n",
              "    </tr>\n",
              "    <tr>\n",
              "      <th>1</th>\n",
              "      <td>0 days 01:00:00</td>\n",
              "      <td>-3.102278</td>\n",
              "      <td>-3.917667</td>\n",
              "      <td>-5.511389</td>\n",
              "      <td>-19.240389</td>\n",
              "      <td>223.546167</td>\n",
              "      <td>-3.108444</td>\n",
              "      <td>-2.007556</td>\n",
              "      <td>-6.977278</td>\n",
              "      <td>-27.959389</td>\n",
              "      <td>191.218833</td>\n",
              "      <td>12.378111</td>\n",
              "      <td>5.495611</td>\n",
              "      <td>394.350944</td>\n",
              "      <td>61699.155556</td>\n",
              "      <td>-10</td>\n",
              "    </tr>\n",
              "    <tr>\n",
              "      <th>2</th>\n",
              "      <td>0 days 02:00:00</td>\n",
              "      <td>-4.461056</td>\n",
              "      <td>-2.912778</td>\n",
              "      <td>-3.165389</td>\n",
              "      <td>-10.525000</td>\n",
              "      <td>207.519389</td>\n",
              "      <td>-4.465500</td>\n",
              "      <td>-1.887333</td>\n",
              "      <td>-4.316833</td>\n",
              "      <td>-17.845667</td>\n",
              "      <td>194.595333</td>\n",
              "      <td>11.099056</td>\n",
              "      <td>7.644278</td>\n",
              "      <td>398.399389</td>\n",
              "      <td>86511.150000</td>\n",
              "      <td>-10</td>\n",
              "    </tr>\n",
              "    <tr>\n",
              "      <th>3</th>\n",
              "      <td>0 days 03:00:00</td>\n",
              "      <td>-4.831389</td>\n",
              "      <td>-1.055056</td>\n",
              "      <td>-3.897667</td>\n",
              "      <td>-7.848444</td>\n",
              "      <td>195.787444</td>\n",
              "      <td>-4.827667</td>\n",
              "      <td>-0.251167</td>\n",
              "      <td>-4.407500</td>\n",
              "      <td>-11.876222</td>\n",
              "      <td>191.322722</td>\n",
              "      <td>12.065778</td>\n",
              "      <td>5.324167</td>\n",
              "      <td>399.055167</td>\n",
              "      <td>85357.388889</td>\n",
              "      <td>-6</td>\n",
              "    </tr>\n",
              "    <tr>\n",
              "      <th>4</th>\n",
              "      <td>0 days 04:00:00</td>\n",
              "      <td>-3.784667</td>\n",
              "      <td>-0.737500</td>\n",
              "      <td>-3.542056</td>\n",
              "      <td>-4.479444</td>\n",
              "      <td>203.448389</td>\n",
              "      <td>-3.781333</td>\n",
              "      <td>-0.173833</td>\n",
              "      <td>-4.037889</td>\n",
              "      <td>-9.076444</td>\n",
              "      <td>197.677111</td>\n",
              "      <td>11.785889</td>\n",
              "      <td>6.176667</td>\n",
              "      <td>419.151722</td>\n",
              "      <td>86160.788889</td>\n",
              "      <td>-2</td>\n",
              "    </tr>\n",
              "  </tbody>\n",
              "</table>\n",
              "</div>"
            ],
            "text/plain": [
              "         timedelta    bx_gse    by_gse    bz_gse  theta_gse     phi_gse  \\\n",
              "0  0 days 00:00:00 -2.926056 -2.133444 -2.176722  -3.211278  206.873000   \n",
              "1  0 days 01:00:00 -3.102278 -3.917667 -5.511389 -19.240389  223.546167   \n",
              "2  0 days 02:00:00 -4.461056 -2.912778 -3.165389 -10.525000  207.519389   \n",
              "3  0 days 03:00:00 -4.831389 -1.055056 -3.897667  -7.848444  195.787444   \n",
              "4  0 days 04:00:00 -3.784667 -0.737500 -3.542056  -4.479444  203.448389   \n",
              "\n",
              "     bx_gsm    by_gsm    bz_gsm  theta_gsm     phi_gsm         bt   density  \\\n",
              "0 -2.933389 -1.390444 -2.996278  -7.983833  188.540889  12.031944  6.554500   \n",
              "1 -3.108444 -2.007556 -6.977278 -27.959389  191.218833  12.378111  5.495611   \n",
              "2 -4.465500 -1.887333 -4.316833 -17.845667  194.595333  11.099056  7.644278   \n",
              "3 -4.827667 -0.251167 -4.407500 -11.876222  191.322722  12.065778  5.324167   \n",
              "4 -3.781333 -0.173833 -4.037889  -9.076444  197.677111  11.785889  6.176667   \n",
              "\n",
              "        speed   temperature  dst  \n",
              "0  406.231778  59844.472222   -7  \n",
              "1  394.350944  61699.155556  -10  \n",
              "2  398.399389  86511.150000  -10  \n",
              "3  399.055167  85357.388889   -6  \n",
              "4  419.151722  86160.788889   -2  "
            ]
          },
          "execution_count": 4,
          "metadata": {},
          "output_type": "execute_result"
        }
      ],
      "source": [
        "dst_df = pd.read_csv('hourly_avg_dst.csv')\n",
        "\n",
        "dst_df.head()"
      ]
    },
    {
      "cell_type": "code",
      "execution_count": null,
      "metadata": {},
      "outputs": [
        {
          "name": "stdout",
          "output_type": "stream",
          "text": [
            "Shape before dropping: (58464, 16)\n",
            "Shape after dropping: (58364, 16)\n",
            "Missing values after dropping:\n",
            " timedelta      0\n",
            "bx_gse         0\n",
            "by_gse         0\n",
            "bz_gse         0\n",
            "theta_gse      0\n",
            "phi_gse        0\n",
            "bx_gsm         0\n",
            "by_gsm         0\n",
            "bz_gsm         0\n",
            "theta_gsm      0\n",
            "phi_gsm        0\n",
            "bt             0\n",
            "density        0\n",
            "speed          0\n",
            "temperature    0\n",
            "dst            0\n",
            "dtype: int64\n"
          ]
        }
      ],
      "source": [
        "dst_df_dropped = dst_df.dropna()\n",
        "\n",
        "print(\"Shape before dropping:\", dst_df.shape)\n",
        "print(\"Shape after dropping:\", dst_df_dropped.shape)\n",
        "\n",
        "print(\"Missing values after dropping:\\n\", dst_df_dropped.isna().sum())\n"
      ]
    },
    {
      "cell_type": "markdown",
      "metadata": {},
      "source": [
        "DATA ANALYSIS"
      ]
    },
    {
      "cell_type": "code",
      "execution_count": 10,
      "metadata": {},
      "outputs": [],
      "source": [
        "X_train = X_train.drop(columns=['timedelta'])\n",
        "X_val = X_val.drop(columns=['timedelta'])\n",
        "X_test = X_test.drop(columns=['timedelta'])\n",
        "\n"
      ]
    },
    {
      "cell_type": "code",
      "execution_count": 16,
      "metadata": {},
      "outputs": [
        {
          "name": "stdout",
          "output_type": "stream",
          "text": [
            "Collecting seaborn\n",
            "  Downloading seaborn-0.13.2-py3-none-any.whl.metadata (5.4 kB)\n",
            "Requirement already satisfied: numpy!=1.24.0,>=1.20 in c:\\users\\gksan\\appdata\\local\\packages\\pythonsoftwarefoundation.python.3.10_qbz5n2kfra8p0\\localcache\\local-packages\\python310\\site-packages (from seaborn) (1.26.3)\n",
            "Requirement already satisfied: pandas>=1.2 in c:\\users\\gksan\\appdata\\local\\packages\\pythonsoftwarefoundation.python.3.10_qbz5n2kfra8p0\\localcache\\local-packages\\python310\\site-packages (from seaborn) (2.1.4)\n",
            "Requirement already satisfied: matplotlib!=3.6.1,>=3.4 in c:\\users\\gksan\\appdata\\local\\packages\\pythonsoftwarefoundation.python.3.10_qbz5n2kfra8p0\\localcache\\local-packages\\python310\\site-packages (from seaborn) (3.8.3)\n",
            "Requirement already satisfied: contourpy>=1.0.1 in c:\\users\\gksan\\appdata\\local\\packages\\pythonsoftwarefoundation.python.3.10_qbz5n2kfra8p0\\localcache\\local-packages\\python310\\site-packages (from matplotlib!=3.6.1,>=3.4->seaborn) (1.2.0)\n",
            "Requirement already satisfied: cycler>=0.10 in c:\\users\\gksan\\appdata\\local\\packages\\pythonsoftwarefoundation.python.3.10_qbz5n2kfra8p0\\localcache\\local-packages\\python310\\site-packages (from matplotlib!=3.6.1,>=3.4->seaborn) (0.12.1)\n",
            "Requirement already satisfied: fonttools>=4.22.0 in c:\\users\\gksan\\appdata\\local\\packages\\pythonsoftwarefoundation.python.3.10_qbz5n2kfra8p0\\localcache\\local-packages\\python310\\site-packages (from matplotlib!=3.6.1,>=3.4->seaborn) (4.49.0)\n",
            "Requirement already satisfied: kiwisolver>=1.3.1 in c:\\users\\gksan\\appdata\\local\\packages\\pythonsoftwarefoundation.python.3.10_qbz5n2kfra8p0\\localcache\\local-packages\\python310\\site-packages (from matplotlib!=3.6.1,>=3.4->seaborn) (1.4.5)\n",
            "Requirement already satisfied: packaging>=20.0 in c:\\users\\gksan\\appdata\\local\\packages\\pythonsoftwarefoundation.python.3.10_qbz5n2kfra8p0\\localcache\\local-packages\\python310\\site-packages (from matplotlib!=3.6.1,>=3.4->seaborn) (24.0)\n",
            "Requirement already satisfied: pillow>=8 in c:\\users\\gksan\\appdata\\local\\packages\\pythonsoftwarefoundation.python.3.10_qbz5n2kfra8p0\\localcache\\local-packages\\python310\\site-packages (from matplotlib!=3.6.1,>=3.4->seaborn) (10.2.0)\n",
            "Requirement already satisfied: pyparsing>=2.3.1 in c:\\users\\gksan\\appdata\\local\\packages\\pythonsoftwarefoundation.python.3.10_qbz5n2kfra8p0\\localcache\\local-packages\\python310\\site-packages (from matplotlib!=3.6.1,>=3.4->seaborn) (3.1.2)\n",
            "Requirement already satisfied: python-dateutil>=2.7 in c:\\users\\gksan\\appdata\\local\\packages\\pythonsoftwarefoundation.python.3.10_qbz5n2kfra8p0\\localcache\\local-packages\\python310\\site-packages (from matplotlib!=3.6.1,>=3.4->seaborn) (2.8.2)\n",
            "Requirement already satisfied: pytz>=2020.1 in c:\\users\\gksan\\appdata\\local\\packages\\pythonsoftwarefoundation.python.3.10_qbz5n2kfra8p0\\localcache\\local-packages\\python310\\site-packages (from pandas>=1.2->seaborn) (2023.3.post1)\n",
            "Requirement already satisfied: tzdata>=2022.1 in c:\\users\\gksan\\appdata\\local\\packages\\pythonsoftwarefoundation.python.3.10_qbz5n2kfra8p0\\localcache\\local-packages\\python310\\site-packages (from pandas>=1.2->seaborn) (2023.4)\n",
            "Requirement already satisfied: six>=1.5 in c:\\users\\gksan\\appdata\\local\\packages\\pythonsoftwarefoundation.python.3.10_qbz5n2kfra8p0\\localcache\\local-packages\\python310\\site-packages (from python-dateutil>=2.7->matplotlib!=3.6.1,>=3.4->seaborn) (1.16.0)\n",
            "Downloading seaborn-0.13.2-py3-none-any.whl (294 kB)\n",
            "   ---------------------------------------- 0.0/294.9 kB ? eta -:--:--\n",
            "   --------------- ------------------------ 112.6/294.9 kB 2.2 MB/s eta 0:00:01\n",
            "   ---------------------------------------- 294.9/294.9 kB 3.0 MB/s eta 0:00:00\n",
            "Installing collected packages: seaborn\n",
            "Successfully installed seaborn-0.13.2\n",
            "Note: you may need to restart the kernel to use updated packages.\n"
          ]
        },
        {
          "name": "stderr",
          "output_type": "stream",
          "text": [
            "\n",
            "[notice] A new release of pip is available: 23.3.2 -> 25.0\n",
            "[notice] To update, run: C:\\Users\\gksan\\AppData\\Local\\Microsoft\\WindowsApps\\PythonSoftwareFoundation.Python.3.10_qbz5n2kfra8p0\\python.exe -m pip install --upgrade pip\n"
          ]
        }
      ],
      "source": [
        "pip install seaborn"
      ]
    },
    {
      "cell_type": "code",
      "execution_count": null,
      "metadata": {},
      "outputs": [
        {
          "data": {
            "image/png": "[encoded data removed]",
            "text/plain": [
              "<Figure size 1200x800 with 2 Axes>"
            ]
          },
          "metadata": {},
          "output_type": "display_data"
        }
      ],
      "source": [
        "import matplotlib.pyplot as plt\n",
        "import seaborn as sns\n",
        "\n",
        "corr_matrix = dst_df.drop(columns=['timedelta']).corr()\n",
        "\n",
        "plt.figure(figsize=(12, 8))\n",
        "sns.heatmap(corr_matrix, annot=True, fmt=\".2f\", cmap=\"coolwarm\", linewidths=0.5)\n",
        "\n",
        "plt.title(\"Feature Correlation Heatmap (Including dst)\")\n",
        "plt.show()\n"
      ]
    },
    {
      "cell_type": "code",
      "execution_count": 18,
      "metadata": {},
      "outputs": [
        {
          "name": "stdout",
          "output_type": "stream",
          "text": [
            "Most important features correlated with dst:\n",
            "speed         -0.291421\n",
            "bt            -0.262011\n",
            "temperature   -0.175074\n",
            "bz_gsm         0.156859\n",
            "density        0.144418\n",
            "theta_gsm      0.110437\n",
            "bz_gse         0.108339\n",
            "theta_gse      0.072329\n",
            "bx_gsm         0.020602\n",
            "bx_gse         0.020573\n",
            "by_gse        -0.018333\n",
            "phi_gsm       -0.008797\n",
            "phi_gse       -0.004203\n",
            "by_gsm        -0.000611\n",
            "Name: dst, dtype: float64\n"
          ]
        }
      ],
      "source": [
        "corr_matrix = dst_df.drop(columns=['timedelta']).corr()\n",
        "\n",
        "dst_correlation = corr_matrix[\"dst\"].drop(\"dst\").sort_values(key=abs, ascending=False)\n",
        "\n",
        "print(\"Most important features correlated with dst:\")\n",
        "print(dst_correlation)\n"
      ]
    },
    {
      "cell_type": "code",
      "execution_count": null,
      "metadata": {},
      "outputs": [
        {
          "name": "stdout",
          "output_type": "stream",
          "text": [
            "Explained variance ratio per component:\n",
            " [3.05478177e-01 2.49284245e-01 1.25673801e-01 9.68593553e-02\n",
            " 8.44085279e-02 5.02869240e-02 3.20642977e-02 1.98455478e-02\n",
            " 1.77391987e-02 1.14298944e-02 4.81415418e-03 1.40443454e-03\n",
            " 7.11356541e-04 8.57259864e-08]\n",
            "\n",
            "Most influential features in each principal component:\n",
            "PC1: by_gse\n",
            "PC2: theta_gse\n",
            "PC3: speed\n",
            "PC4: bx_gsm\n",
            "PC5: density\n",
            "PC6: bt\n",
            "PC7: by_gsm\n",
            "PC8: speed\n",
            "PC9: bz_gse\n",
            "PC10: theta_gse\n",
            "PC11: phi_gsm\n",
            "PC12: by_gse\n",
            "PC13: bz_gsm\n",
            "PC14: bx_gse\n"
          ]
        }
      ],
      "source": [
        "from sklearn.decomposition import PCA\n",
        "import numpy as np\n",
        "\n",
        "X = dst_df_dropped.drop(columns=['timedelta', 'dst'])\n",
        "y = dst_df_dropped['dst']\n",
        "\n",
        "X_standardized = (X - X.mean()) / X.std()\n",
        "\n",
        "pca = PCA(n_components=X.shape[1])  \n",
        "X_pca = pca.fit_transform(X_standardized)\n",
        "\n",
        "explained_variance = pca.explained_variance_ratio_\n",
        "\n",
        "print(\"Explained variance ratio per component:\\n\", explained_variance)\n",
        "\n",
        "important_features = np.abs(pca.components_).argmax(axis=1)\n",
        "print(\"\\nMost influential features in each principal component:\")\n",
        "for i, feature_index in enumerate(important_features):\n",
        "    print(f\"PC{i+1}: {X.columns[feature_index]}\")\n"
      ]
    },
    {
      "cell_type": "markdown",
      "metadata": {},
      "source": [
        "RANDOM FOREST REGRESSION"
      ]
    },
    {
      "cell_type": "code",
      "execution_count": null,
      "metadata": {},
      "outputs": [
        {
          "name": "stdout",
          "output_type": "stream",
          "text": [
            "Training set: (37352, 5), (37352,)\n",
            "Validation set: (9339, 5), (9339,)\n",
            "Testing set: (11673, 5), (11673,)\n",
            "Validation MSE: 346.7179\n",
            "Validation R²: 0.2817\n",
            "Test MSE: 309.6371\n",
            "Test R²: 0.2700\n"
          ]
        }
      ],
      "source": [
        "import pandas as pd\n",
        "from sklearn.model_selection import train_test_split\n",
        "from sklearn.ensemble import RandomForestRegressor\n",
        "from sklearn.metrics import mean_squared_error, r2_score\n",
        "\n",
        "selected_features = ['speed', 'bt', 'temperature', 'bz_gsm', 'density', 'dst']\n",
        "dst_df_filtered = dst_df_dropped[selected_features]\n",
        "\n",
        "X = dst_df_filtered.drop(columns=['dst'])  # Features\n",
        "y = dst_df_filtered['dst']  # Target\n",
        "\n",
        "\n",
        "X_train_val, X_test, y_train_val, y_test = train_test_split(X, y, test_size=0.2, random_state=42)\n",
        "X_train, X_val, y_train, y_val = train_test_split(X_train_val, y_train_val, test_size=0.2, random_state=42)\n",
        "print(f\"Training set: {X_train.shape}, {y_train.shape}\")\n",
        "print(f\"Validation set: {X_val.shape}, {y_val.shape}\")\n",
        "print(f\"Testing set: {X_test.shape}, {y_test.shape}\")\n",
        "\n",
        "rf_regressor = RandomForestRegressor(n_estimators=100, random_state=42)\n",
        "\n",
        "rf_regressor.fit(X_train, y_train)\n",
        "\n",
        "y_val_pred = rf_regressor.predict(X_val)\n",
        "\n",
        "val_mse = mean_squared_error(y_val, y_val_pred)\n",
        "val_r2 = r2_score(y_val, y_val_pred)\n",
        "\n",
        "print(f\"Validation MSE: {val_mse:.4f}\")\n",
        "print(f\"Validation R²: {val_r2:.4f}\")\n",
        "\n",
        "y_test_pred = rf_regressor.predict(X_test)\n",
        "\n",
        "test_mse = mean_squared_error(y_test, y_test_pred)\n",
        "test_r2 = r2_score(y_test, y_test_pred)\n",
        "\n",
        "print(f\"Test MSE: {test_mse:.4f}\")\n",
        "print(f\"Test R²: {test_r2:.4f}\")\n"
      ]
    },
    {
      "cell_type": "code",
      "execution_count": 30,
      "metadata": {},
      "outputs": [
        {
          "name": "stdout",
          "output_type": "stream",
          "text": [
            "XGBoost Validation MSE: 353.2857\n",
            "XGBoost Validation R²: 0.2681\n",
            "XGBoost Test MSE: 325.8235\n",
            "XGBoost Test R²: 0.2319\n"
          ]
        }
      ],
      "source": [
        "from xgboost import XGBRegressor\n",
        "from sklearn.metrics import mean_squared_error, r2_score\n",
        "\n",
        "xgb_regressor = XGBRegressor(n_estimators=100, learning_rate=0.1, random_state=42)\n",
        "\n",
        "xgb_regressor.fit(X_train, y_train)\n",
        "\n",
        "y_val_pred = xgb_regressor.predict(X_val)\n",
        "val_mse = mean_squared_error(y_val, y_val_pred)\n",
        "val_r2 = r2_score(y_val, y_val_pred)\n",
        "\n",
        "print(f\"XGBoost Validation MSE: {val_mse:.4f}\")\n",
        "print(f\"XGBoost Validation R²: {val_r2:.4f}\")\n",
        "\n",
        "y_test_pred = xgb_regressor.predict(X_test)\n",
        "test_mse = mean_squared_error(y_test, y_test_pred)\n",
        "test_r2 = r2_score(y_test, y_test_pred)\n",
        "\n",
        "print(f\"XGBoost Test MSE: {test_mse:.4f}\")\n",
        "print(f\"XGBoost Test R²: {test_r2:.4f}\")\n"
      ]
    },
    {
      "cell_type": "code",
      "execution_count": null,
      "metadata": {},
      "outputs": [
        {
          "name": "stdout",
          "output_type": "stream",
          "text": [
            "SVR Validation MSE: 482.9303\n",
            "SVR Validation R²: -0.0005\n",
            "SVR Test MSE: 424.5081\n",
            "SVR Test R²: -0.0008\n"
          ]
        }
      ],
      "source": [
        "from sklearn.svm import SVR\n",
        "\n",
        "svr_regressor = SVR(kernel='rbf', C=100, gamma=0.1)\n",
        "\n",
        "svr_regressor.fit(X_train, y_train)\n",
        "\n",
        "y_val_pred = svr_regressor.predict(X_val)\n",
        "val_mse = mean_squared_error(y_val, y_val_pred)\n",
        "val_r2 = r2_score(y_val, y_val_pred)\n",
        "\n",
        "print(f\"SVR Validation MSE: {val_mse:.4f}\")\n",
        "print(f\"SVR Validation R²: {val_r2:.4f}\")\n",
        "\n",
        "y_test_pred = svr_regressor.predict(X_test)\n",
        "test_mse = mean_squared_error(y_test, y_test_pred)\n",
        "test_r2 = r2_score(y_test, y_test_pred)\n",
        "\n",
        "print(f\"SVR Test MSE: {test_mse:.4f}\")\n",
        "print(f\"SVR Test R²: {test_r2:.4f}\")\n"
      ]
    },
    {
      "cell_type": "code",
      "execution_count": 33,
      "metadata": {},
      "outputs": [
        {
          "name": "stdout",
          "output_type": "stream",
          "text": [
            "Ridge Validation MSE: 394.1239\n",
            "Ridge Validation R²: 0.1835\n",
            "Ridge Test MSE: 349.7102\n",
            "Ridge Test R²: 0.1756\n"
          ]
        }
      ],
      "source": [
        "from sklearn.linear_model import Ridge\n",
        "    \n",
        "ridge_regressor = Ridge(alpha=1.0)\n",
        "\n",
        "ridge_regressor.fit(X_train, y_train)\n",
        "\n",
        "y_val_pred = ridge_regressor.predict(X_val)\n",
        "val_mse = mean_squared_error(y_val, y_val_pred)\n",
        "val_r2 = r2_score(y_val, y_val_pred)\n",
        "\n",
        "print(f\"Ridge Validation MSE: {val_mse:.4f}\")\n",
        "print(f\"Ridge Validation R²: {val_r2:.4f}\")\n",
        "\n",
        "y_test_pred = ridge_regressor.predict(X_test)\n",
        "test_mse = mean_squared_error(y_test, y_test_pred)\n",
        "test_r2 = r2_score(y_test, y_test_pred)\n",
        "\n",
        "print(f\"Ridge Test MSE: {test_mse:.4f}\")\n",
        "print(f\"Ridge Test R²: {test_r2:.4f}\")\n"
      ]
    },
    {
      "cell_type": "code",
      "execution_count": 34,
      "metadata": {},
      "outputs": [
        {
          "name": "stdout",
          "output_type": "stream",
          "text": [
            "       Feature  Importance\n",
            "0        speed    0.251500\n",
            "1           bt    0.212449\n",
            "3       bz_gsm    0.183544\n",
            "4      density    0.177931\n",
            "2  temperature    0.174577\n"
          ]
        }
      ],
      "source": [
        "importances = rf_regressor.feature_importances_\n",
        "feature_importance_df = pd.DataFrame({'Feature': X_train.columns, 'Importance': importances})\n",
        "print(feature_importance_df.sort_values(by='Importance', ascending=False))\n"
      ]
    },
    {
      "cell_type": "code",
      "execution_count": 36,
      "metadata": {},
      "outputs": [
        {
          "name": "stdout",
          "output_type": "stream",
          "text": [
            "Model saved as geomagnetic_model.pkl\n"
          ]
        }
      ],
      "source": [
        "import joblib\n",
        "\n",
        "joblib.dump(rf_regressor, \"geomagnetic_model.pkl\")\n",
        "print(\"Model saved as geomagnetic_model.pkl\")\n"
      ]
    },
    {
      "cell_type": "code",
      "execution_count": 37,
      "metadata": {},
      "outputs": [
        {
          "name": "stdout",
          "output_type": "stream",
          "text": [
            "Predicted Dst value: -7.73\n"
          ]
        },
        {
          "name": "stderr",
          "output_type": "stream",
          "text": [
            "C:\\Users\\gksan\\AppData\\Local\\Packages\\PythonSoftwareFoundation.Python.3.10_qbz5n2kfra8p0\\LocalCache\\local-packages\\Python310\\site-packages\\sklearn\\base.py:493: UserWarning: X does not have valid feature names, but RandomForestRegressor was fitted with feature names\n",
            "  warnings.warn(\n"
          ]
        }
      ],
      "source": [
        "import joblib\n",
        "import numpy as np\n",
        "\n",
        "model = joblib.load(\"geomagnetic_model.pkl\")\n",
        "\n",
        "new_data = np.array([[350, 6.2, 50000, -2.5, 5.1]])  \n",
        "\n",
        ".rediction = model.predict(new_data)\n",
        "\n",
        "print(\"Predicted Dst value:\", prediction[0])\n"
      ]
    }
  ],
  "metadata": {
    "colab": {
      "provenance": []
    },
    "kernelspec": {
      "display_name": "Python 3",
      "name": "python3"
    },
    "language_info": {
      "codemirror_mode": {
        "name": "ipython",
        "version": 3
      },
      "file_extension": ".py",
      "mimetype": "text/x-python",
      "name": "python",
      "nbconvert_exporter": "python",
      "pygments_lexer": "ipython3",
      "version": "3.10.11"
    }
  },
  "nbformat": 4,
  "nbformat_minor": 0
}
